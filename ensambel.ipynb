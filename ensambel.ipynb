{
 "cells": [
  {
   "cell_type": "code",
   "execution_count": 1,
   "id": "0f373fb5",
   "metadata": {},
   "outputs": [],
   "source": [
    "import pandas as pd "
   ]
  },
  {
   "cell_type": "code",
   "execution_count": 2,
   "id": "cd6f2d9f",
   "metadata": {},
   "outputs": [],
   "source": [
    "data = pd.read_excel(\"dataset.xlsx\", sheet_name=\"Run 1_ PV_battery_model\")"
   ]
  },
  {
   "cell_type": "code",
   "execution_count": 3,
   "id": "16df9773",
   "metadata": {},
   "outputs": [],
   "source": [
    "data= data.drop([\"time\",'Snfc'] , axis=1)"
   ]
  },
  {
   "cell_type": "code",
   "execution_count": 4,
   "id": "261bf5c2",
   "metadata": {},
   "outputs": [],
   "source": [
    "datax = data.drop(columns=['Snet'])"
   ]
  },
  {
   "cell_type": "code",
   "execution_count": 5,
   "id": "7bc45849",
   "metadata": {},
   "outputs": [],
   "source": [
    "from sklearn import preprocessing\n",
    "scaler = preprocessing.StandardScaler()\n",
    "scaler.fit(datax)\n",
    "dfx1=scaler.transform(datax)\n",
    "dfx1 = pd.DataFrame(dfx1)"
   ]
  },
  {
   "cell_type": "code",
   "execution_count": 6,
   "id": "29fdb3f9",
   "metadata": {},
   "outputs": [],
   "source": [
    "dfy1 = data['Snet']"
   ]
  },
  {
   "cell_type": "code",
   "execution_count": 7,
   "id": "74be67b8",
   "metadata": {},
   "outputs": [
    {
     "data": {
      "text/plain": [
       "(0.2106365696158116,\n",
       " 0.45895159833669996,\n",
       " 0.9997576523821636,\n",
       " 0.29024161657150543)"
      ]
     },
     "execution_count": 7,
     "metadata": {},
     "output_type": "execute_result"
    }
   ],
   "source": [
    "from sklearn.model_selection import train_test_split\n",
    "from sklearn.metrics import mean_squared_error, r2_score, mean_absolute_error\n",
    "from sklearn.ensemble import VotingRegressor\n",
    "import pandas as pd\n",
    "import tensorflow as tf\n",
    "from joblib import load\n",
    "from scikeras.wrappers import KerasRegressor  # Use scikeras for compatibility\n",
    "import numpy as np\n",
    "from tensorflow import keras\n",
    "from tensorflow.keras import models\n",
    "\n",
    "# Load pre-trained models\n",
    "dt = load('decision_tree_simple.h5')\n",
    "Gb = load('GradientBoostingRegressor_model.h5')\n",
    "rf = load('decision_tree_simple.h5')\n",
    "xb = load('XGB_simple.h5')\n",
    "\n",
    "# Load ANN model architecture and weights separately\n",
    "def build_keras_model():\n",
    "    model = models.load_model(\"ANN_model.h5\")  # Load model architecture and weights\n",
    "    model.compile(optimizer=tf.keras.optimizers.Adam(), loss='mse')  # Reinitialize optimizer\n",
    "    return model\n",
    "\n",
    "# Wrap ANN model in KerasRegressor\n",
    "ann_regressor = KerasRegressor(model=build_keras_model)\n",
    "\n",
    "# Splitting dataset\n",
    "X_train, X_test, y_train, y_test = train_test_split(dfx1, dfy1, test_size=0.25, shuffle=True , random_state=42)\n",
    "\n",
    "# Voting Regressor with scikit-learn compatible models\n",
    "# voting_regressor = VotingRegressor(estimators=[('rf' , rf), ('DT', dt), ('GB', Gb),('ANN', ann_regressor)])\n",
    "voting_regressor = VotingRegressor(estimators=[('rf' , rf), ('DT', dt), ('GB', Gb),('XGB',xb)])\n",
    "\n",
    "voting_regressor.fit(X_train, y_train)\n",
    "\n",
    "# Predictions with Voting Regressor\n",
    "y_pred_train_vr = voting_regressor.predict(X_train)\n",
    "y_pred_test_vr = voting_regressor.predict(X_test)\n",
    "\n",
    "# Compute training metrics\n",
    "mse_train = mean_squared_error(y_train, y_pred_train_vr)\n",
    "rmse_train = np.sqrt(mse_train)\n",
    "r2_train = r2_score(y_train, y_pred_train_vr)\n",
    "mape_train = mean_absolute_error(y_train, y_pred_train_vr)\n",
    "\n",
    "# Compute testing metrics\n",
    "mse_test = mean_squared_error(y_test, y_pred_test_vr)\n",
    "rmse_test = np.sqrt(mse_test)\n",
    "r2_test = r2_score(y_test, y_pred_test_vr)\n",
    "mape_test = mean_absolute_error(y_test, y_pred_test_vr)\n",
    "\n",
    "\n",
    "mse_test, rmse_test , r2_test, mape_test,\n",
    "\n"
   ]
  },
  {
   "cell_type": "code",
   "execution_count": 8,
   "id": "b9b490e6",
   "metadata": {},
   "outputs": [
    {
     "data": {
      "text/plain": [
       "['voting_regressor_model.h5']"
      ]
     },
     "execution_count": 8,
     "metadata": {},
     "output_type": "execute_result"
    }
   ],
   "source": [
    "from joblib import dump\n",
    "dump(voting_regressor, 'voting_regressor_model.h5')"
   ]
  },
  {
   "cell_type": "code",
   "execution_count": 11,
   "id": "0d7574bc",
   "metadata": {},
   "outputs": [
    {
     "name": "stderr",
     "output_type": "stream",
     "text": [
      "WARNING:absl:Compiled the loaded model, but the compiled metrics have yet to be built. `model.compile_metrics` will be empty until you train or evaluate the model.\n"
     ]
    },
    {
     "name": "stdout",
     "output_type": "stream",
     "text": [
      "\u001b[1m3750/3750\u001b[0m \u001b[32m━━━━━━━━━━━━━━━━━━━━\u001b[0m\u001b[37m\u001b[0m \u001b[1m3s\u001b[0m 601us/step - loss: 7.2404\n",
      "\u001b[1m3750/3750\u001b[0m \u001b[32m━━━━━━━━━━━━━━━━━━━━\u001b[0m\u001b[37m\u001b[0m \u001b[1m2s\u001b[0m 529us/step\n",
      "\u001b[1m1250/1250\u001b[0m \u001b[32m━━━━━━━━━━━━━━━━━━━━\u001b[0m\u001b[37m\u001b[0m \u001b[1m1s\u001b[0m 495us/step\n"
     ]
    },
    {
     "data": {
      "text/plain": [
       "(0.39779350841598204,\n",
       " 0.6307087350084681,\n",
       " 0.999542319221533,\n",
       " 0.36328347932831323)"
      ]
     },
     "execution_count": 11,
     "metadata": {},
     "output_type": "execute_result"
    }
   ],
   "source": [
    "from sklearn.model_selection import train_test_split\n",
    "from sklearn.metrics import mean_squared_error, r2_score, mean_absolute_error\n",
    "from sklearn.ensemble import VotingRegressor\n",
    "import pandas as pd\n",
    "import tensorflow as tf\n",
    "from joblib import load\n",
    "from scikeras.wrappers import KerasRegressor  # Use scikeras for compatibility\n",
    "import numpy as np\n",
    "from tensorflow import keras\n",
    "from tensorflow.keras import models\n",
    "\n",
    "# Load pre-trained models\n",
    "dt = load('decision_tree_simple.h5')\n",
    "Gb = load('GradientBoostingRegressor_model.h5')\n",
    "rf = load('decision_tree_simple.h5')\n",
    "xb = load('XGB_simple.h5')\n",
    "\n",
    "# Load ANN model architecture and weights separately\n",
    "def build_keras_model():\n",
    "    model = models.load_model(\"ANN_model.h5\")  # Load model architecture and weights\n",
    "    model.compile(optimizer=tf.keras.optimizers.Adam(), loss='mse')  # Reinitialize optimizer\n",
    "    return model\n",
    "\n",
    "# Wrap ANN model in KerasRegressor\n",
    "ann_regressor = KerasRegressor(model=build_keras_model)\n",
    "\n",
    "# Splitting dataset\n",
    "X_train, X_test, y_train, y_test = train_test_split(dfx1, dfy1, test_size=0.25, shuffle=True , random_state=42)\n",
    "\n",
    "def build_keras_model():\n",
    "    model = models.load_model(\"ANN_model.h5\")\n",
    "    model.compile(optimizer=tf.keras.optimizers.Adam(), loss='mse')\n",
    "    return model\n",
    "\n",
    "ann = KerasRegressor(model=build_keras_model)\n",
    "# Voting Regressor with scikit-learn compatible models\n",
    "# voting_regressor = VotingRegressor(estimators=[('rf' , rf), ('DT', dt), ('GB', Gb),('ANN', ann_regressor)])\n",
    "voting_regressor = VotingRegressor(estimators=[('rf' , rf), ('DT', dt), ('GB', Gb),('XGB',xb),('ANN', ann)])\n",
    "\n",
    "voting_regressor.fit(X_train, y_train)\n",
    "\n",
    "# Predictions with Voting Regressor\n",
    "y_pred_train_vr = voting_regressor.predict(X_train)\n",
    "y_pred_test_vr = voting_regressor.predict(X_test)\n",
    "\n",
    "# Compute training metrics\n",
    "mse_train = mean_squared_error(y_train, y_pred_train_vr)\n",
    "rmse_train = np.sqrt(mse_train)\n",
    "r2_train = r2_score(y_train, y_pred_train_vr)\n",
    "mape_train = mean_absolute_error(y_train, y_pred_train_vr)\n",
    "\n",
    "# Compute testing metrics\n",
    "mse_test = mean_squared_error(y_test, y_pred_test_vr)\n",
    "rmse_test = np.sqrt(mse_test)\n",
    "r2_test = r2_score(y_test, y_pred_test_vr)\n",
    "mape_test = mean_absolute_error(y_test, y_pred_test_vr)\n",
    "\n",
    "\n",
    "mse_test, rmse_test , r2_test, mape_test,\n",
    "\n"
   ]
  },
  {
   "cell_type": "code",
   "execution_count": 12,
   "id": "4a6ff5da",
   "metadata": {},
   "outputs": [
    {
     "data": {
      "text/plain": [
       "['voting_regressor_with_ann5_model.h5']"
      ]
     },
     "execution_count": 12,
     "metadata": {},
     "output_type": "execute_result"
    }
   ],
   "source": [
    "from joblib import dump\n",
    "dump(voting_regressor, 'voting_regressor_with_ann5_model.h5')"
   ]
  },
  {
   "cell_type": "code",
   "execution_count": 15,
   "id": "a3719054",
   "metadata": {},
   "outputs": [
    {
     "name": "stderr",
     "output_type": "stream",
     "text": [
      "WARNING:absl:Compiled the loaded model, but the compiled metrics have yet to be built. `model.compile_metrics` will be empty until you train or evaluate the model.\n"
     ]
    },
    {
     "name": "stdout",
     "output_type": "stream",
     "text": [
      "\u001b[1m3750/3750\u001b[0m \u001b[32m━━━━━━━━━━━━━━━━━━━━\u001b[0m\u001b[37m\u001b[0m \u001b[1m4s\u001b[0m 595us/step - loss: 8.9593\n",
      "\u001b[1m3750/3750\u001b[0m \u001b[32m━━━━━━━━━━━━━━━━━━━━\u001b[0m\u001b[37m\u001b[0m \u001b[1m2s\u001b[0m 450us/step\n",
      "\u001b[1m1250/1250\u001b[0m \u001b[32m━━━━━━━━━━━━━━━━━━━━\u001b[0m\u001b[37m\u001b[0m \u001b[1m1s\u001b[0m 442us/step\n"
     ]
    },
    {
     "data": {
      "text/plain": [
       "(1.3586301833253212,\n",
       " 1.1656029269546817,\n",
       " 0.9984368298959196,\n",
       " 0.6199609325788186)"
      ]
     },
     "execution_count": 15,
     "metadata": {},
     "output_type": "execute_result"
    }
   ],
   "source": [
    "from sklearn.model_selection import train_test_split\n",
    "from sklearn.metrics import mean_squared_error, r2_score, mean_absolute_error\n",
    "from sklearn.ensemble import VotingRegressor\n",
    "import pandas as pd\n",
    "import tensorflow as tf\n",
    "from joblib import load\n",
    "from scikeras.wrappers import KerasRegressor  # Use scikeras for compatibility\n",
    "import numpy as np\n",
    "from tensorflow import keras\n",
    "from tensorflow.keras import models\n",
    "\n",
    "# Load pre-trained models\n",
    "dt = load('decision_tree_simple.h5')\n",
    "Gb = load('GradientBoostingRegressor_model.h5')\n",
    "rf = load('decision_tree_simple.h5')\n",
    "xb = load('XGB_simple.h5')\n",
    "\n",
    "# Load ANN model architecture and weights separately\n",
    "\n",
    "\n",
    "# Splitting dataset\n",
    "X_train, X_test, y_train, y_test = train_test_split(dfx1, dfy1, test_size=0.25, shuffle=True , random_state=42)\n",
    "\n",
    "def build_keras_model():\n",
    "    model = models.load_model(\"ANN_model_6.h5\")\n",
    "    model.compile(optimizer=tf.keras.optimizers.Adam(), loss='mse')\n",
    "    return model\n",
    "\n",
    "ann = KerasRegressor(model=build_keras_model)\n",
    "# Voting Regressor with scikit-learn compatible models\n",
    "# voting_regressor = VotingRegressor(estimators=[('rf' , rf), ('DT', dt), ('GB', Gb),('ANN', ann_regressor)])\n",
    "voting_regressor = VotingRegressor(estimators=[('rf' , rf), ('DT', dt), ('GB', Gb),('XGB',xb),('ANN', ann)])\n",
    "\n",
    "voting_regressor.fit(X_train, y_train)\n",
    "\n",
    "# Predictions with Voting Regressor\n",
    "y_pred_train_vr = voting_regressor.predict(X_train)\n",
    "y_pred_test_vr = voting_regressor.predict(X_test)\n",
    "\n",
    "# Compute training metrics\n",
    "mse_train = mean_squared_error(y_train, y_pred_train_vr)\n",
    "rmse_train = np.sqrt(mse_train)\n",
    "r2_train = r2_score(y_train, y_pred_train_vr)\n",
    "mape_train = mean_absolute_error(y_train, y_pred_train_vr)\n",
    "\n",
    "# Compute testing metrics\n",
    "mse_test = mean_squared_error(y_test, y_pred_test_vr)\n",
    "rmse_test = np.sqrt(mse_test)\n",
    "r2_test = r2_score(y_test, y_pred_test_vr)\n",
    "mape_test = mean_absolute_error(y_test, y_pred_test_vr)\n",
    "\n",
    "\n",
    "mse_test, rmse_test , r2_test, mape_test,\n",
    "\n"
   ]
  },
  {
   "cell_type": "markdown",
   "id": "26d93b28",
   "metadata": {},
   "source": [
    "# Stacking (Stacked Generalization)\n",
    "Combines multiple models (level-0 learners) using another model (meta-learner or level-1 model) to make final predictions.\n",
    "The base models make predictions, and the meta-learner combines them intelligently.\n",
    "Example: Using logistic regression as a meta-learner over random forests, and neural networks."
   ]
  },
  {
   "cell_type": "markdown",
   "id": "58c8a464",
   "metadata": {},
   "source": [
    "with ANN\n"
   ]
  },
  {
   "cell_type": "code",
   "execution_count": 17,
   "id": "48f96f89",
   "metadata": {},
   "outputs": [
    {
     "name": "stdout",
     "output_type": "stream",
     "text": [
      "Stacking Model Performance:\n",
      "Train RMSE: 22.094711327923996, R2: 0.4860658396372196, MAPE: 13.859112457545466\n",
      "Test RMSE: 19.42582472173528, R2: -3.1006540664989366, MAPE: 16.978865290156882\n"
     ]
    }
   ],
   "source": [
    "from sklearn.ensemble import GradientBoostingRegressor, StackingRegressor\n",
    "from xgboost import XGBRegressor\n",
    "from sklearn.linear_model import LinearRegression\n",
    "from sklearn.metrics import mean_squared_error, r2_score, mean_absolute_error\n",
    "from sklearn.model_selection import train_test_split\n",
    "import numpy as np\n",
    "import tensorflow as tf\n",
    "from tensorflow.keras import models\n",
    "from joblib import load\n",
    "from xgboost import XGBRegressor\n",
    "\n",
    "\n",
    "# Load dataset\n",
    "X_train, X_test, y_train, y_test = train_test_split(dfx1, dfy1, test_size=0.25, shuffle=False)\n",
    "\n",
    "# Load pre-trained models\n",
    "\n",
    "dt = load('decision_tree_simple.h5')\n",
    "Gb = load('GradientBoostingRegressor_model.h5')\n",
    "rf = load('decision_tree_simple.h5')\n",
    "xgb_model = load('XGB_simple.h5')\n",
    "# svr = load('SVR2_4.h5')\n",
    "# Load ANN model\n",
    "\n",
    "def build_keras_model():\n",
    "    model = models.load_model(\"ANN_model.h5\")\n",
    "    model.compile(optimizer=tf.keras.optimizers.Adam(), loss='mse')\n",
    "    return model\n",
    "\n",
    "ann = KerasRegressor(model=build_keras_model)\n",
    "# Define Boosting models\n",
    "\n",
    "# Train Boosting models\n",
    "# xgb_model.fit(X_train, y_train)\n",
    "\n",
    "# Stacking ensemble with meta-learner\n",
    "stacking_regressor = StackingRegressor(\n",
    "    estimators=[('rf', rf), ('dt', dt), ('gb', Gb), ('xgb', xgb_model)],\n",
    "    final_estimator=XGBRegressor()\n",
    ")\n",
    "\n",
    "# Train Stacking model\n",
    "stacking_regressor.fit(X_train, y_train)\n",
    "\n",
    "# Predictions\n",
    "y_pred_train_stack = stacking_regressor.predict(X_train)\n",
    "y_pred_test_stack = stacking_regressor.predict(X_test)\n",
    "\n",
    "# Compute training metrics\n",
    "mse_train = mean_squared_error(y_train, y_pred_train_stack)\n",
    "rmse_train = np.sqrt(mse_train)\n",
    "r2_train = r2_score(y_train, y_pred_train_stack)\n",
    "mape_train = mean_absolute_error(y_train, y_pred_train_stack)\n",
    "\n",
    "# Compute testing metrics\n",
    "mse_test = mean_squared_error(y_test, y_pred_test_stack)\n",
    "rmse_test = np.sqrt(mse_test)\n",
    "r2_test = r2_score(y_test, y_pred_test_stack)\n",
    "mape_test = mean_absolute_error(y_test, y_pred_test_stack)\n",
    "\n",
    "# Store results\n",
    "\n",
    "print(\"Stacking Model Performance:\")\n",
    "print(f\"Train RMSE: {rmse_train}, R2: {r2_train}, MAPE: {mape_train}\")\n",
    "print(f\"Test RMSE: {rmse_test}, R2: {r2_test}, MAPE: {mape_test}\")\n"
   ]
  },
  {
   "cell_type": "markdown",
   "id": "de791c38",
   "metadata": {},
   "source": [
    "WithoutANN"
   ]
  },
  {
   "cell_type": "code",
   "execution_count": 10,
   "id": "26e2631e",
   "metadata": {},
   "outputs": [
    {
     "name": "stdout",
     "output_type": "stream",
     "text": [
      "Stacking Model Performance:\n",
      "Train RMSE: 32.49826597297491, R2: -0.11186279802503662, MAPE: 23.1307320989664\n",
      "Test RMSE: 58.25929186785787, R2: -35.882861265497105, MAPE: 57.43431764455877\n"
     ]
    }
   ],
   "source": [
    "stacking_regressor = StackingRegressor(\n",
    "    estimators=[('rf', rf), ('dt', dt), ('gb', Gb), ('xgb', xgb_model)],\n",
    "    final_estimator=LinearRegression()\n",
    ")\n",
    "\n",
    "# Train Stacking model\n",
    "stacking_regressor.fit(X_train, y_train)\n",
    "\n",
    "# Predictions\n",
    "y_pred_train_stack = stacking_regressor.predict(X_train)\n",
    "y_pred_test_stack = stacking_regressor.predict(X_test)\n",
    "\n",
    "# Compute training metrics\n",
    "mse_train = mean_squared_error(y_train, y_pred_train_stack)\n",
    "rmse_train = np.sqrt(mse_train)\n",
    "r2_train = r2_score(y_train, y_pred_train_stack)\n",
    "mape_train = mean_absolute_error(y_train, y_pred_train_stack)\n",
    "\n",
    "# Compute testing metrics\n",
    "mse_test = mean_squared_error(y_test, y_pred_test_stack)\n",
    "rmse_test = np.sqrt(mse_test)\n",
    "r2_test = r2_score(y_test, y_pred_test_stack)\n",
    "mape_test = mean_absolute_error(y_test, y_pred_test_stack)\n",
    "\n",
    "# Store results\n",
    "\n",
    "print(\"Stacking Model Performance:\")\n",
    "print(f\"Train RMSE: {rmse_train}, R2: {r2_train}, MAPE: {mape_train}\")\n",
    "print(f\"Test RMSE: {rmse_test}, R2: {r2_test}, MAPE: {mape_test}\")\n"
   ]
  },
  {
   "cell_type": "code",
   "execution_count": null,
   "id": "6a3cc828",
   "metadata": {},
   "outputs": [],
   "source": []
  }
 ],
 "metadata": {
  "kernelspec": {
   "display_name": "Python 3",
   "language": "python",
   "name": "python3"
  },
  "language_info": {
   "codemirror_mode": {
    "name": "ipython",
    "version": 3
   },
   "file_extension": ".py",
   "mimetype": "text/x-python",
   "name": "python",
   "nbconvert_exporter": "python",
   "pygments_lexer": "ipython3",
   "version": "3.11.5"
  }
 },
 "nbformat": 4,
 "nbformat_minor": 5
}
