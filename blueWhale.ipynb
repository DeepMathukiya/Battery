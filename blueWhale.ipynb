{
 "cells": [
  {
   "cell_type": "code",
   "execution_count": 1,
   "id": "b6560e6f",
   "metadata": {},
   "outputs": [],
   "source": [
    "import pandas as pd \n",
    "data = pd.read_excel(\"dataset.xlsx\", sheet_name=\"Run 1_ PV_battery_model\")\n",
    "data= data.drop([\"time\" , \"Snfc\"] , axis=1)\n",
    "datax = data.drop(columns=['Snet'])\n",
    "dfy1 = data['Snet']"
   ]
  },
  {
   "cell_type": "code",
   "execution_count": 2,
   "id": "b8deb29e",
   "metadata": {},
   "outputs": [],
   "source": [
    "from sklearn import preprocessing\n",
    "scaler = preprocessing.StandardScaler()\n",
    "scaler.fit(datax)\n",
    "dfx1=scaler.transform(datax)\n",
    "dfx1 = pd.DataFrame(dfx1)"
   ]
  },
  {
   "cell_type": "code",
   "execution_count": 7,
   "id": "dd8a1264",
   "metadata": {},
   "outputs": [],
   "source": [
    "from sklearn.model_selection import train_test_split\n",
    "\n",
    "X_train, X_test, y_train, y_test = train_test_split(dfx1,dfy1,test_size=0.2, random_state=42) "
   ]
  },
  {
   "cell_type": "markdown",
   "id": "b6e534e9",
   "metadata": {},
   "source": [
    "# Blue Whale Optimization"
   ]
  },
  {
   "cell_type": "code",
   "execution_count": 4,
   "id": "9c6ca26e",
   "metadata": {},
   "outputs": [
    {
     "name": "stdout",
     "output_type": "stream",
     "text": [
      "\n",
      "Optimizing GradientBoosting using Blue Whale Optimization...\n",
      "Best Parameters: {'n_estimators': 81, 'learning_rate': 0.19071380620781497}, Best Loss (RMSE): 1.3612\n",
      "\n",
      "Optimizing XGBRegressor using Blue Whale Optimization...\n",
      "Best Parameters: {'n_estimators': 84, 'learning_rate': 0.17830877471388534}, Best Loss (RMSE): 0.3436\n",
      "\n",
      "Optimizing RandomForest using Blue Whale Optimization...\n",
      "Best Parameters: {'n_estimators': 80, 'max_depth': 18}, Best Loss (RMSE): 0.2131\n",
      "\n",
      "Optimizing DecisionTree using Blue Whale Optimization...\n",
      "Best Parameters: {'max_depth': 15, 'min_samples_split': 2}, Best Loss (RMSE): 0.2639\n"
     ]
    }
   ],
   "source": [
    "import numpy as np\n",
    "import random\n",
    "from sklearn.metrics import root_mean_squared_error\n",
    "from sklearn.datasets import make_regression\n",
    "from sklearn.tree import DecisionTreeRegressor\n",
    "from sklearn.ensemble import GradientBoostingRegressor, RandomForestRegressor\n",
    "from xgboost import XGBRegressor\n",
    "from joblib import Parallel, delayed\n",
    "\n",
    "# Individual Whale\n",
    "class Whale:\n",
    "    def __init__(self, dim, bounds):\n",
    "        self.position = np.array([random.uniform(bounds[d][0], bounds[d][1]) for d in range(dim)])\n",
    "        self.fitness = float('inf')\n",
    "\n",
    "# BWO Algorithm\n",
    "def blue_whale_optimize(func, dim, bounds, n_whales=7, max_iter=20, a_decay=2, early_stop=5):\n",
    "    whales = [Whale(dim, bounds) for _ in range(n_whales)]\n",
    "    best_whale = min(whales, key=lambda w: func(w.position))\n",
    "    best_loss = func(best_whale.position)\n",
    "    no_improve = 0\n",
    "\n",
    "    for iter in range(max_iter):\n",
    "        a = 2 - iter * (2 / max_iter)  # Linearly decreasing a from 2 to 0\n",
    "\n",
    "        scores = Parallel(n_jobs=-1)(delayed(func)(w.position) for w in whales)\n",
    "\n",
    "        for i, whale in enumerate(whales):\n",
    "            fitness = scores[i]\n",
    "\n",
    "            if fitness < whale.fitness:\n",
    "                whale.fitness = fitness\n",
    "\n",
    "            if fitness < best_loss:\n",
    "                best_loss = fitness\n",
    "                best_whale = Whale(dim, bounds)\n",
    "                best_whale.position = whale.position.copy()\n",
    "                best_whale.fitness = fitness\n",
    "                no_improve = 0\n",
    "            else:\n",
    "                no_improve += 1\n",
    "\n",
    "            if no_improve >= early_stop:\n",
    "                return best_whale.position, best_loss\n",
    "\n",
    "        for whale in whales:\n",
    "            r = random.random()\n",
    "            A = 2 * a * r - a\n",
    "            C = 2 * r\n",
    "\n",
    "            if random.random() < 0.5:\n",
    "                D = np.abs(C * best_whale.position - whale.position)\n",
    "                whale.position = best_whale.position - A * D\n",
    "            else:\n",
    "                b = 1\n",
    "                l = random.uniform(-1, 1)\n",
    "                distance_to_best = np.abs(best_whale.position - whale.position)\n",
    "                whale.position = distance_to_best * np.exp(b * l) * np.cos(2 * np.pi * l) + best_whale.position\n",
    "\n",
    "            whale.position = np.clip(whale.position, [b[0] for b in bounds], [b[1] for b in bounds])\n",
    "\n",
    "    return best_whale.position, best_loss\n",
    "\n",
    "# Regression + BWO wrapper\n",
    "def regression_bwo(model_class, param_bounds, X_train, X_test, y_train, y_test, n_whales=7, max_iter=12):\n",
    "    def model_fitness(params):\n",
    "        params = {key: int(val) if isinstance(param_bounds[key][0], int) else val for key, val in zip(param_bounds.keys(), params)}\n",
    "        model = model_class(**params)\n",
    "        model.fit(X_train, y_train)\n",
    "        y_pred = model.predict(X_test)\n",
    "        return root_mean_squared_error(y_test, y_pred)  # RMSE\n",
    "\n",
    "    bounds = list(param_bounds.values())\n",
    "    best_params, best_loss = blue_whale_optimize(model_fitness, len(bounds), bounds, n_whales, max_iter)\n",
    "\n",
    "    best_params_dict = {key: int(val) if isinstance(param_bounds[key][0], int) else val for key, val in zip(param_bounds.keys(), best_params)}\n",
    "    return best_params_dict, best_loss\n",
    "\n",
    "# Example Usage\n",
    "if __name__ == \"__main__\":\n",
    "    # Example dataset\n",
    "\n",
    "    models = {\n",
    "        \"GradientBoosting\": (GradientBoostingRegressor, {\"n_estimators\": (50, 100), \"learning_rate\": (0.05, 0.2)}),\n",
    "        \"XGBRegressor\": (XGBRegressor, {\"n_estimators\": (50, 100), \"learning_rate\": (0.05, 0.2)}),\n",
    "        \"RandomForest\": (RandomForestRegressor, {\"n_estimators\": (50, 100), \"max_depth\": (1, 20)}),\n",
    "        \"DecisionTree\": (DecisionTreeRegressor, {\"max_depth\": (1, 20), \"min_samples_split\": (2, 10)}),\n",
    "    }\n",
    "\n",
    "    for name, (model_class, param_bounds) in models.items():\n",
    "        print(f\"\\nOptimizing {name} using Blue Whale Optimization...\")\n",
    "        best_params, best_loss = regression_bwo(model_class, param_bounds, X_train, X_test, y_train, y_test)\n",
    "        print(f\"Best Parameters: {best_params}, Best Loss (RMSE): {best_loss:.4f}\")\n"
   ]
  },
  {
   "cell_type": "markdown",
   "id": "f05b9d13",
   "metadata": {},
   "source": [
    "# Ant Colony Optimization (ACO) "
   ]
  },
  {
   "cell_type": "code",
   "execution_count": null,
   "id": "fc386701",
   "metadata": {},
   "outputs": [],
   "source": []
  }
 ],
 "metadata": {
  "kernelspec": {
   "display_name": "Python 3",
   "language": "python",
   "name": "python3"
  },
  "language_info": {
   "codemirror_mode": {
    "name": "ipython",
    "version": 3
   },
   "file_extension": ".py",
   "mimetype": "text/x-python",
   "name": "python",
   "nbconvert_exporter": "python",
   "pygments_lexer": "ipython3",
   "version": "3.11.5"
  }
 },
 "nbformat": 4,
 "nbformat_minor": 5
}
